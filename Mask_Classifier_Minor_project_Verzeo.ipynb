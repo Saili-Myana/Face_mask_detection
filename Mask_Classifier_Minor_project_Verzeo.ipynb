{
  "nbformat": 4,
  "nbformat_minor": 0,
  "metadata": {
    "kernelspec": {
      "display_name": "Python 3",
      "language": "python",
      "name": "python3"
    },
    "language_info": {
      "codemirror_mode": {
        "name": "ipython",
        "version": 3
      },
      "file_extension": ".py",
      "mimetype": "text/x-python",
      "name": "python",
      "nbconvert_exporter": "python",
      "pygments_lexer": "ipython3",
      "version": "3.7.7"
    },
    "colab": {
      "name": "Mask_Classifier_Minor_project_Verzeo.ipynb",
      "provenance": [],
      "collapsed_sections": []
    },
    "accelerator": "TPU"
  },
  "cells": [
    {
      "cell_type": "code",
      "metadata": {
        "id": "w1fDlTm636ud",
        "colab_type": "code",
        "colab": {
          "base_uri": "https://localhost:8080/",
          "height": 35
        },
        "outputId": "28f50ca1-bd0b-4199-f121-47a6018213f2"
      },
      "source": [
        "import keras\n",
        "import PIL"
      ],
      "execution_count": 1,
      "outputs": [
        {
          "output_type": "stream",
          "text": [
            "Using TensorFlow backend.\n"
          ],
          "name": "stderr"
        }
      ]
    },
    {
      "cell_type": "code",
      "metadata": {
        "id": "Nau3v_pB36ux",
        "colab_type": "code",
        "colab": {}
      },
      "source": [
        "from keras.models import Sequential\n",
        "from keras.layers import Conv2D\n",
        "from keras.layers import MaxPooling2D\n",
        "from keras.layers import Flatten\n",
        "from keras.layers import Dense, Dropout"
      ],
      "execution_count": 2,
      "outputs": []
    },
    {
      "cell_type": "code",
      "metadata": {
        "id": "VHaajUnr36vC",
        "colab_type": "code",
        "colab": {}
      },
      "source": [
        "classifier = Sequential()\n",
        "classifier.add(Conv2D(32, (3,3), input_shape = (64,64,3), activation = 'relu'))"
      ],
      "execution_count": 3,
      "outputs": []
    },
    {
      "cell_type": "code",
      "metadata": {
        "id": "QXx0XJmm36vN",
        "colab_type": "code",
        "colab": {}
      },
      "source": [
        "classifier.add(MaxPooling2D(pool_size=(2,2)))"
      ],
      "execution_count": 4,
      "outputs": []
    },
    {
      "cell_type": "code",
      "metadata": {
        "id": "v5KF_zoe36vX",
        "colab_type": "code",
        "colab": {}
      },
      "source": [
        "classifier.add(Conv2D(32, (3,3), activation = 'relu'))"
      ],
      "execution_count": 5,
      "outputs": []
    },
    {
      "cell_type": "code",
      "metadata": {
        "id": "mQ4mt74o36vf",
        "colab_type": "code",
        "colab": {}
      },
      "source": [
        "classifier.add(MaxPooling2D(pool_size = (2,2)))"
      ],
      "execution_count": 6,
      "outputs": []
    },
    {
      "cell_type": "code",
      "metadata": {
        "id": "uk7kE_oI36vn",
        "colab_type": "code",
        "colab": {}
      },
      "source": [
        "classifier.add(Flatten())"
      ],
      "execution_count": 7,
      "outputs": []
    },
    {
      "cell_type": "code",
      "metadata": {
        "id": "tYscSB4S36vs",
        "colab_type": "code",
        "colab": {}
      },
      "source": [
        "classifier.add(Dense(units = 128, activation = 'relu'))"
      ],
      "execution_count": 8,
      "outputs": []
    },
    {
      "cell_type": "code",
      "metadata": {
        "id": "ia_PTHDr36v0",
        "colab_type": "code",
        "colab": {}
      },
      "source": [
        "classifier.add(Dropout(0.2))"
      ],
      "execution_count": 9,
      "outputs": []
    },
    {
      "cell_type": "code",
      "metadata": {
        "id": "LYnK_23J36v9",
        "colab_type": "code",
        "colab": {}
      },
      "source": [
        "classifier.add(Dense(units = 64, activation = 'relu'))"
      ],
      "execution_count": 10,
      "outputs": []
    },
    {
      "cell_type": "code",
      "metadata": {
        "id": "s26Yvl6t36wC",
        "colab_type": "code",
        "colab": {}
      },
      "source": [
        "classifier.add(Dropout(0.2))"
      ],
      "execution_count": 11,
      "outputs": []
    },
    {
      "cell_type": "code",
      "metadata": {
        "id": "z2E8GYS536wJ",
        "colab_type": "code",
        "colab": {}
      },
      "source": [
        "classifier.add(Dense(units = 1, activation = 'sigmoid'))"
      ],
      "execution_count": 12,
      "outputs": []
    },
    {
      "cell_type": "code",
      "metadata": {
        "id": "Jn3jKyP636wR",
        "colab_type": "code",
        "colab": {
          "base_uri": "https://localhost:8080/",
          "height": 527
        },
        "outputId": "7c838573-114c-430f-c573-bf03eb15a864"
      },
      "source": [
        "classifier.summary()"
      ],
      "execution_count": 13,
      "outputs": [
        {
          "output_type": "stream",
          "text": [
            "Model: \"sequential_1\"\n",
            "_________________________________________________________________\n",
            "Layer (type)                 Output Shape              Param #   \n",
            "=================================================================\n",
            "conv2d_1 (Conv2D)            (None, 62, 62, 32)        896       \n",
            "_________________________________________________________________\n",
            "max_pooling2d_1 (MaxPooling2 (None, 31, 31, 32)        0         \n",
            "_________________________________________________________________\n",
            "conv2d_2 (Conv2D)            (None, 29, 29, 32)        9248      \n",
            "_________________________________________________________________\n",
            "max_pooling2d_2 (MaxPooling2 (None, 14, 14, 32)        0         \n",
            "_________________________________________________________________\n",
            "flatten_1 (Flatten)          (None, 6272)              0         \n",
            "_________________________________________________________________\n",
            "dense_1 (Dense)              (None, 128)               802944    \n",
            "_________________________________________________________________\n",
            "dropout_1 (Dropout)          (None, 128)               0         \n",
            "_________________________________________________________________\n",
            "dense_2 (Dense)              (None, 64)                8256      \n",
            "_________________________________________________________________\n",
            "dropout_2 (Dropout)          (None, 64)                0         \n",
            "_________________________________________________________________\n",
            "dense_3 (Dense)              (None, 1)                 65        \n",
            "=================================================================\n",
            "Total params: 821,409\n",
            "Trainable params: 821,409\n",
            "Non-trainable params: 0\n",
            "_________________________________________________________________\n"
          ],
          "name": "stdout"
        }
      ]
    },
    {
      "cell_type": "code",
      "metadata": {
        "id": "MHaJkjEv36wa",
        "colab_type": "code",
        "colab": {}
      },
      "source": [
        "classifier.compile(loss = 'binary_crossentropy', metrics = ['accuracy'], optimizer = 'adam')"
      ],
      "execution_count": 14,
      "outputs": []
    },
    {
      "cell_type": "code",
      "metadata": {
        "id": "8hz5qKxz36wh",
        "colab_type": "code",
        "colab": {}
      },
      "source": [
        "from keras.preprocessing.image import ImageDataGenerator"
      ],
      "execution_count": 15,
      "outputs": []
    },
    {
      "cell_type": "code",
      "metadata": {
        "id": "TAEtJkKX36wo",
        "colab_type": "code",
        "colab": {}
      },
      "source": [
        "train_datagen = ImageDataGenerator(rescale = 1./255, shear_range = 0.2,  zoom_range = 0.2, horizontal_flip = True)"
      ],
      "execution_count": 16,
      "outputs": []
    },
    {
      "cell_type": "code",
      "metadata": {
        "id": "5Vgm28XW36wt",
        "colab_type": "code",
        "colab": {}
      },
      "source": [
        "test_datagen = ImageDataGenerator(rescale = 1./255)"
      ],
      "execution_count": 17,
      "outputs": []
    },
    {
      "cell_type": "code",
      "metadata": {
        "id": "PbolXHDv6d4Q",
        "colab_type": "code",
        "colab": {
          "base_uri": "https://localhost:8080/",
          "height": 128
        },
        "outputId": "6bb2dca0-e241-4152-9937-ce5bc6eadbd2"
      },
      "source": [
        "from google.colab import drive\n",
        "drive.mount('/content/drive')"
      ],
      "execution_count": 18,
      "outputs": [
        {
          "output_type": "stream",
          "text": [
            "Go to this URL in a browser: https://accounts.google.com/o/oauth2/auth?client_id=947318989803-6bn6qk8qdgf4n4g3pfee6491hc0brc4i.apps.googleusercontent.com&redirect_uri=urn%3aietf%3awg%3aoauth%3a2.0%3aoob&response_type=code&scope=email%20https%3a%2f%2fwww.googleapis.com%2fauth%2fdocs.test%20https%3a%2f%2fwww.googleapis.com%2fauth%2fdrive%20https%3a%2f%2fwww.googleapis.com%2fauth%2fdrive.photos.readonly%20https%3a%2f%2fwww.googleapis.com%2fauth%2fpeopleapi.readonly\n",
            "\n",
            "Enter your authorization code:\n",
            "··········\n",
            "Mounted at /content/drive\n"
          ],
          "name": "stdout"
        }
      ]
    },
    {
      "cell_type": "code",
      "metadata": {
        "id": "L0_uAbzX36wz",
        "colab_type": "code",
        "colab": {
          "base_uri": "https://localhost:8080/",
          "height": 35
        },
        "outputId": "33d1d2a4-737e-4128-b352-d56d84e7fb78"
      },
      "source": [
        "training_set = train_datagen.flow_from_directory('/content/drive/My Drive/mask_dataset/train',target_size=(64,64), batch_size=64, class_mode = 'binary')"
      ],
      "execution_count": 19,
      "outputs": [
        {
          "output_type": "stream",
          "text": [
            "Found 3721 images belonging to 2 classes.\n"
          ],
          "name": "stdout"
        }
      ]
    },
    {
      "cell_type": "code",
      "metadata": {
        "id": "djQaHm-s36w6",
        "colab_type": "code",
        "colab": {
          "base_uri": "https://localhost:8080/",
          "height": 35
        },
        "outputId": "37ee8761-5ad4-4d5b-d718-8b64346d403e"
      },
      "source": [
        "test_set = test_datagen.flow_from_directory('/content/drive/My Drive/mask_dataset/test', target_size=(64,64), batch_size=64, class_mode = 'binary')"
      ],
      "execution_count": 20,
      "outputs": [
        {
          "output_type": "stream",
          "text": [
            "Found 112 images belonging to 2 classes.\n"
          ],
          "name": "stdout"
        }
      ]
    },
    {
      "cell_type": "code",
      "metadata": {
        "id": "RaG2n7db36w_",
        "colab_type": "code",
        "colab": {
          "base_uri": "https://localhost:8080/",
          "height": 1000
        },
        "outputId": "d96a015c-9cbc-4af8-9b77-1bf151d2d788"
      },
      "source": [
        "history=classifier.fit_generator(training_set, steps_per_epoch = 8000/64, epochs = 50, validation_data = test_set, validation_steps = 2000/64)"
      ],
      "execution_count": null,
      "outputs": [
        {
          "output_type": "stream",
          "text": [
            "Epoch 1/50\n",
            " 19/125 [===>..........................] - ETA: 3:47 - loss: 0.2620 - accuracy: 0.9128"
          ],
          "name": "stdout"
        },
        {
          "output_type": "stream",
          "text": [
            "/usr/local/lib/python3.6/dist-packages/PIL/Image.py:932: UserWarning: Palette images with Transparency expressed in bytes should be converted to RGBA images\n",
            "  \"Palette images with Transparency expressed in bytes should be \"\n"
          ],
          "name": "stderr"
        },
        {
          "output_type": "stream",
          "text": [
            "125/125 [==============================] - 301s 2s/step - loss: 0.2185 - accuracy: 0.9224 - val_loss: 0.0964 - val_accuracy: 0.9554\n",
            "Epoch 2/50\n",
            "125/125 [==============================] - 39s 311ms/step - loss: 0.1742 - accuracy: 0.9392 - val_loss: 0.1327 - val_accuracy: 0.9643\n",
            "Epoch 3/50\n",
            "125/125 [==============================] - 42s 334ms/step - loss: 0.1509 - accuracy: 0.9464 - val_loss: 0.0401 - val_accuracy: 0.9821\n",
            "Epoch 4/50\n",
            "125/125 [==============================] - 38s 307ms/step - loss: 0.1470 - accuracy: 0.9467 - val_loss: 0.0527 - val_accuracy: 0.9821\n",
            "Epoch 5/50\n",
            "125/125 [==============================] - 39s 312ms/step - loss: 0.1289 - accuracy: 0.9542 - val_loss: 0.0079 - val_accuracy: 0.9911\n",
            "Epoch 6/50\n",
            "125/125 [==============================] - 38s 306ms/step - loss: 0.1049 - accuracy: 0.9631 - val_loss: 0.1348 - val_accuracy: 0.9911\n",
            "Epoch 7/50\n",
            "125/125 [==============================] - 39s 315ms/step - loss: 0.1042 - accuracy: 0.9640 - val_loss: 0.0201 - val_accuracy: 0.9911\n",
            "Epoch 8/50\n",
            "125/125 [==============================] - 38s 307ms/step - loss: 0.1059 - accuracy: 0.9651 - val_loss: 0.2435 - val_accuracy: 0.9732\n",
            "Epoch 9/50\n",
            "125/125 [==============================] - 38s 308ms/step - loss: 0.0912 - accuracy: 0.9693 - val_loss: 0.1534 - val_accuracy: 0.9286\n",
            "Epoch 10/50\n",
            "125/125 [==============================] - 39s 310ms/step - loss: 0.0956 - accuracy: 0.9666 - val_loss: 9.3896e-04 - val_accuracy: 0.9911\n",
            "Epoch 11/50\n",
            "125/125 [==============================] - 38s 306ms/step - loss: 0.0790 - accuracy: 0.9733 - val_loss: 0.1141 - val_accuracy: 0.9911\n",
            "Epoch 12/50\n",
            "125/125 [==============================] - 38s 307ms/step - loss: 0.0657 - accuracy: 0.9786 - val_loss: 0.0077 - val_accuracy: 0.9911\n",
            "Epoch 13/50\n",
            "125/125 [==============================] - 40s 317ms/step - loss: 0.0688 - accuracy: 0.9766 - val_loss: 5.8780e-04 - val_accuracy: 0.9911\n",
            "Epoch 14/50\n",
            "125/125 [==============================] - 38s 307ms/step - loss: 0.0632 - accuracy: 0.9816 - val_loss: 0.0144 - val_accuracy: 0.9911\n",
            "Epoch 15/50\n",
            "125/125 [==============================] - 41s 325ms/step - loss: 0.0545 - accuracy: 0.9827 - val_loss: 0.0046 - val_accuracy: 0.9821\n",
            "Epoch 16/50\n",
            "125/125 [==============================] - 38s 304ms/step - loss: 0.0442 - accuracy: 0.9834 - val_loss: 0.0524 - val_accuracy: 0.9821\n",
            "Epoch 17/50\n",
            "125/125 [==============================] - 39s 312ms/step - loss: 0.0484 - accuracy: 0.9832 - val_loss: 0.0168 - val_accuracy: 0.9732\n",
            "Epoch 18/50\n",
            "125/125 [==============================] - 42s 332ms/step - loss: 0.0548 - accuracy: 0.9841 - val_loss: 0.1670 - val_accuracy: 0.9911\n",
            "Epoch 19/50\n",
            "125/125 [==============================] - 40s 321ms/step - loss: 0.0312 - accuracy: 0.9884 - val_loss: 0.0012 - val_accuracy: 0.9911\n",
            "Epoch 20/50\n",
            "125/125 [==============================] - 38s 306ms/step - loss: 0.0386 - accuracy: 0.9860 - val_loss: 0.0013 - val_accuracy: 0.9732\n",
            "Epoch 21/50\n",
            "125/125 [==============================] - 39s 313ms/step - loss: 0.0290 - accuracy: 0.9904 - val_loss: 6.1225e-04 - val_accuracy: 0.9821\n",
            "Epoch 22/50\n",
            "125/125 [==============================] - 38s 306ms/step - loss: 0.0486 - accuracy: 0.9822 - val_loss: 0.0019 - val_accuracy: 0.9821\n",
            "Epoch 23/50\n",
            "125/125 [==============================] - 39s 310ms/step - loss: 0.0441 - accuracy: 0.9872 - val_loss: 0.1094 - val_accuracy: 0.9821\n",
            "Epoch 24/50\n",
            "125/125 [==============================] - 40s 322ms/step - loss: 0.0274 - accuracy: 0.9891 - val_loss: 4.1914e-05 - val_accuracy: 1.0000\n",
            "Epoch 25/50\n",
            "125/125 [==============================] - 39s 314ms/step - loss: 0.0384 - accuracy: 0.9893 - val_loss: 0.0035 - val_accuracy: 0.9911\n",
            "Epoch 26/50\n",
            "125/125 [==============================] - 38s 306ms/step - loss: 0.0243 - accuracy: 0.9904 - val_loss: 0.1583 - val_accuracy: 0.9911\n",
            "Epoch 27/50\n",
            "125/125 [==============================] - 39s 310ms/step - loss: 0.0295 - accuracy: 0.9907 - val_loss: 0.3045 - val_accuracy: 0.9732\n",
            "Epoch 28/50\n",
            "125/125 [==============================] - 39s 311ms/step - loss: 0.0290 - accuracy: 0.9889 - val_loss: 0.0044 - val_accuracy: 0.9821\n",
            "Epoch 29/50\n",
            "125/125 [==============================] - 39s 309ms/step - loss: 0.0353 - accuracy: 0.9867 - val_loss: 0.0037 - val_accuracy: 0.9911\n",
            "Epoch 30/50\n",
            "125/125 [==============================] - 40s 324ms/step - loss: 0.0202 - accuracy: 0.9945 - val_loss: 3.3994e-05 - val_accuracy: 0.9732\n",
            "Epoch 31/50\n",
            "125/125 [==============================] - 40s 317ms/step - loss: 0.0418 - accuracy: 0.9852 - val_loss: 0.0010 - val_accuracy: 0.9821\n",
            "Epoch 32/50\n",
            "125/125 [==============================] - 39s 312ms/step - loss: 0.0294 - accuracy: 0.9891 - val_loss: 0.0014 - val_accuracy: 0.9911\n",
            "Epoch 33/50\n",
            "125/125 [==============================] - 39s 312ms/step - loss: 0.0180 - accuracy: 0.9942 - val_loss: 0.0012 - val_accuracy: 0.9911\n",
            "Epoch 34/50\n",
            "125/125 [==============================] - 39s 314ms/step - loss: 0.0460 - accuracy: 0.9832 - val_loss: 0.0070 - val_accuracy: 0.9821\n",
            "Epoch 35/50\n",
            "125/125 [==============================] - 38s 308ms/step - loss: 0.0163 - accuracy: 0.9950 - val_loss: 0.0071 - val_accuracy: 0.9911\n",
            "Epoch 36/50\n",
            "125/125 [==============================] - 38s 307ms/step - loss: 0.0410 - accuracy: 0.9866 - val_loss: 1.4409e-04 - val_accuracy: 0.9732\n",
            "Epoch 37/50\n",
            "125/125 [==============================] - 39s 311ms/step - loss: 0.0236 - accuracy: 0.9922 - val_loss: 0.0027 - val_accuracy: 0.9911\n",
            "Epoch 38/50\n",
            "125/125 [==============================] - 39s 309ms/step - loss: 0.0146 - accuracy: 0.9955 - val_loss: 0.0091 - val_accuracy: 0.9911\n",
            "Epoch 39/50\n",
            "125/125 [==============================] - 38s 303ms/step - loss: 0.0197 - accuracy: 0.9927 - val_loss: 2.9465e-04 - val_accuracy: 0.9732\n",
            "Epoch 40/50\n",
            "125/125 [==============================] - 38s 306ms/step - loss: 0.0178 - accuracy: 0.9945 - val_loss: 7.2041e-05 - val_accuracy: 0.9821\n",
            "Epoch 41/50\n",
            "125/125 [==============================] - 40s 320ms/step - loss: 0.0211 - accuracy: 0.9907 - val_loss: 0.0068 - val_accuracy: 0.9911\n",
            "Epoch 42/50\n",
            "125/125 [==============================] - 40s 318ms/step - loss: 0.0124 - accuracy: 0.9965 - val_loss: 1.0196 - val_accuracy: 0.9821\n",
            "Epoch 43/50\n",
            "125/125 [==============================] - 38s 307ms/step - loss: 0.0143 - accuracy: 0.9945 - val_loss: 2.0540e-04 - val_accuracy: 0.9911\n",
            "Epoch 44/50\n",
            "125/125 [==============================] - 40s 319ms/step - loss: 0.0294 - accuracy: 0.9917 - val_loss: 0.6256 - val_accuracy: 0.9911\n",
            "Epoch 45/50\n",
            "125/125 [==============================] - 38s 305ms/step - loss: 0.0155 - accuracy: 0.9932 - val_loss: 0.0071 - val_accuracy: 0.9911\n",
            "Epoch 46/50\n",
            "125/125 [==============================] - 38s 307ms/step - loss: 0.0114 - accuracy: 0.9965 - val_loss: 2.3597e-05 - val_accuracy: 0.9821\n",
            "Epoch 47/50\n",
            "125/125 [==============================] - 39s 308ms/step - loss: 0.0317 - accuracy: 0.9912 - val_loss: 0.0034 - val_accuracy: 0.9821\n",
            "Epoch 48/50\n",
            "125/125 [==============================] - 39s 313ms/step - loss: 0.0121 - accuracy: 0.9960 - val_loss: 2.3839e-05 - val_accuracy: 0.9821\n",
            "Epoch 49/50\n",
            "125/125 [==============================] - 38s 304ms/step - loss: 0.0176 - accuracy: 0.9945 - val_loss: 9.6526e-04 - val_accuracy: 0.9911\n",
            "Epoch 50/50\n",
            "125/125 [==============================] - 39s 314ms/step - loss: 0.0220 - accuracy: 0.9912 - val_loss: 7.6143e-05 - val_accuracy: 0.9911\n"
          ],
          "name": "stdout"
        },
        {
          "output_type": "execute_result",
          "data": {
            "text/plain": [
              "<keras.callbacks.callbacks.History at 0x7f52f5c5e400>"
            ]
          },
          "metadata": {
            "tags": []
          },
          "execution_count": 22
        }
      ]
    },
    {
      "cell_type": "code",
      "metadata": {
        "id": "5btn1vj036xD",
        "colab_type": "code",
        "colab": {}
      },
      "source": [
        "classifier.save('dog_cat_classifier.h5')"
      ],
      "execution_count": null,
      "outputs": []
    },
    {
      "cell_type": "code",
      "metadata": {
        "id": "YfyHbWzv36xL",
        "colab_type": "code",
        "colab": {}
      },
      "source": [
        "classifier.save_weights('/content/drive/My Drive/mask_dataset/mask_classifier_weights.h5')"
      ],
      "execution_count": null,
      "outputs": []
    },
    {
      "cell_type": "code",
      "metadata": {
        "id": "zOU5TIF9asVe",
        "colab_type": "code",
        "colab": {}
      },
      "source": [
        "classifier.load_weights('/content/drive/My Drive/mask_dataset/mask_classifier_weights.h5')"
      ],
      "execution_count": 21,
      "outputs": []
    },
    {
      "cell_type": "code",
      "metadata": {
        "id": "CzKQnQ8NcyjT",
        "colab_type": "code",
        "colab": {}
      },
      "source": [
        "import os"
      ],
      "execution_count": 22,
      "outputs": []
    },
    {
      "cell_type": "code",
      "metadata": {
        "id": "7gqyg7sIcwI7",
        "colab_type": "code",
        "colab": {}
      },
      "source": [
        "list1=os.listdir('/content/drive/My Drive/mask_dataset/test')"
      ],
      "execution_count": 23,
      "outputs": []
    },
    {
      "cell_type": "code",
      "metadata": {
        "id": "6rwCWuMhc5Tf",
        "colab_type": "code",
        "colab": {
          "base_uri": "https://localhost:8080/",
          "height": 35
        },
        "outputId": "0a7766fe-e49c-46f6-ecd9-5386ee89fdeb"
      },
      "source": [
        "list1"
      ],
      "execution_count": 24,
      "outputs": [
        {
          "output_type": "execute_result",
          "data": {
            "text/plain": [
              "['with_mask_test', 'without_mask_test']"
            ]
          },
          "metadata": {
            "tags": []
          },
          "execution_count": 24
        }
      ]
    },
    {
      "cell_type": "code",
      "metadata": {
        "id": "EvY0bEtic_ST",
        "colab_type": "code",
        "colab": {}
      },
      "source": [
        "with_mask_test= os.listdir('/content/drive/My Drive/mask_dataset/test/with_mask_test')\n",
        "without_mask_test= os.listdir('/content/drive/My Drive/mask_dataset/test/without_mask_test')\n"
      ],
      "execution_count": 25,
      "outputs": []
    },
    {
      "cell_type": "code",
      "metadata": {
        "id": "mxS30kUXdJAZ",
        "colab_type": "code",
        "colab": {
          "base_uri": "https://localhost:8080/",
          "height": 35
        },
        "outputId": "ba095aa5-6ef3-4bd3-d1c4-e5f1beced4dc"
      },
      "source": [
        "len(with_mask_test)"
      ],
      "execution_count": 26,
      "outputs": [
        {
          "output_type": "execute_result",
          "data": {
            "text/plain": [
              "56"
            ]
          },
          "metadata": {
            "tags": []
          },
          "execution_count": 26
        }
      ]
    },
    {
      "cell_type": "code",
      "metadata": {
        "id": "nwCPnQT0iWo2",
        "colab_type": "code",
        "colab": {
          "base_uri": "https://localhost:8080/",
          "height": 35
        },
        "outputId": "fde489b3-04bc-4d14-eec8-2330b640ed28"
      },
      "source": [
        "len(without_mask_test)"
      ],
      "execution_count": 27,
      "outputs": [
        {
          "output_type": "execute_result",
          "data": {
            "text/plain": [
              "56"
            ]
          },
          "metadata": {
            "tags": []
          },
          "execution_count": 27
        }
      ]
    },
    {
      "cell_type": "code",
      "metadata": {
        "id": "3U8VuWS0gWXp",
        "colab_type": "code",
        "colab": {}
      },
      "source": [
        "import cv2\n"
      ],
      "execution_count": 28,
      "outputs": []
    },
    {
      "cell_type": "code",
      "metadata": {
        "id": "y1AlxPZHgqj-",
        "colab_type": "code",
        "colab": {}
      },
      "source": [
        "import matplotlib.pyplot as plt"
      ],
      "execution_count": 29,
      "outputs": []
    },
    {
      "cell_type": "code",
      "metadata": {
        "id": "3_nnNzVYhvj0",
        "colab_type": "code",
        "colab": {}
      },
      "source": [
        "import numpy as np"
      ],
      "execution_count": 30,
      "outputs": []
    },
    {
      "cell_type": "markdown",
      "metadata": {
        "id": "zIDrUhuRuiv_",
        "colab_type": "text"
      },
      "source": [
        "# Predicting ZERO for With Mask"
      ]
    },
    {
      "cell_type": "code",
      "metadata": {
        "id": "9yOFor6SfrM_",
        "colab_type": "code",
        "colab": {
          "base_uri": "https://localhost:8080/",
          "height": 286
        },
        "outputId": "ebcf347e-f946-497a-dcfe-20e9d446e70c"
      },
      "source": [
        "img=cv2.imread(os.path.join('/content/drive/My Drive/mask_dataset/test/with_mask_test',with_mask_test[10]),cv2.IMREAD_COLOR)\n",
        "img=cv2.resize(img,(64,64),interpolation = cv2.INTER_CUBIC)\n",
        "RGB_img = cv2.cvtColor(img, cv2.COLOR_BGR2RGB)\n",
        "plt.imshow(RGB_img)\n",
        "z= np.zeros((1,64,64,3))\n",
        "z[0]=RGB_img\n",
        "print(classifier.predict(z))\n",
        "\n",
        "#CHANGE THE NUMBER IN THE LIST with_mask_test, TO CHECK FOR OTHER IMAGES"
      ],
      "execution_count": 31,
      "outputs": [
        {
          "output_type": "stream",
          "text": [
            "[[0.]]\n"
          ],
          "name": "stdout"
        },
        {
          "output_type": "display_data",
          "data": {
            "image/png": "[encoded data removed]",
            "text/plain": [
              "<Figure size 432x288 with 1 Axes>"
            ]
          },
          "metadata": {
            "tags": [],
            "needs_background": "light"
          }
        }
      ]
    },
    {
      "cell_type": "markdown",
      "metadata": {
        "id": "8QGJvpL_uo_V",
        "colab_type": "text"
      },
      "source": [
        "# Predicting ONE for without Mask"
      ]
    },
    {
      "cell_type": "code",
      "metadata": {
        "id": "RNb-DNAS36xp",
        "colab_type": "code",
        "colab": {
          "base_uri": "https://localhost:8080/",
          "height": 286
        },
        "outputId": "29499ca0-c1d9-4a75-cb1b-5791a8bbbe6d"
      },
      "source": [
        "img=cv2.imread(os.path.join('/content/drive/My Drive/mask_dataset/test/without_mask_test',without_mask_test[3]),cv2.IMREAD_COLOR)\n",
        "img=cv2.resize(img,(64,64),interpolation = cv2.INTER_CUBIC)\n",
        "RGB_img = cv2.cvtColor(img, cv2.COLOR_BGR2RGB)\n",
        "plt.imshow(RGB_img)\n",
        "z= np.zeros((1,64,64,3))\n",
        "z[0]=RGB_img\n",
        "print(classifier.predict(z))\n",
        "\n",
        "#CHANGE THE NUMBER IN THE LIST with_mask_test, TO CHECK FOR OTHER IMAGES"
      ],
      "execution_count": 32,
      "outputs": [
        {
          "output_type": "stream",
          "text": [
            "[[1.]]\n"
          ],
          "name": "stdout"
        },
        {
          "output_type": "display_data",
          "data": {
            "image/png": "[encoded data removed]",
            "text/plain": [
              "<Figure size 432x288 with 1 Axes>"
            ]
          },
          "metadata": {
            "tags": [],
            "needs_background": "light"
          }
        }
      ]
    },
    {
      "cell_type": "code",
      "metadata": {
        "id": "jd9ULBlSxYZd",
        "colab_type": "code",
        "colab": {}
      },
      "source": [
        ""
      ],
      "execution_count": null,
      "outputs": []
    },
    {
      "cell_type": "code",
      "metadata": {
        "id": "myF8lQKxu_sr",
        "colab_type": "code",
        "colab": {}
      },
      "source": [
        ""
      ],
      "execution_count": null,
      "outputs": []
    },
    {
      "cell_type": "code",
      "metadata": {
        "id": "QaIHUerZu_wR",
        "colab_type": "code",
        "colab": {}
      },
      "source": [
        ""
      ],
      "execution_count": null,
      "outputs": []
    },
    {
      "cell_type": "markdown",
      "metadata": {
        "id": "gAnKIkEju_8K",
        "colab_type": "text"
      },
      "source": [
        "# To take live photo and test:"
      ]
    },
    {
      "cell_type": "code",
      "metadata": {
        "id": "gZ18PUXkxYdp",
        "colab_type": "code",
        "colab": {}
      },
      "source": [
        "from IPython.display import display, Javascript\n",
        "from google.colab.output import eval_js\n",
        "from base64 import b64decode\n",
        "\n",
        "def take_photo(filename='photo.jpg', quality=0.8):\n",
        "  js = Javascript('''\n",
        "    async function takePhoto(quality) {\n",
        "      const div = document.createElement('div');\n",
        "      const capture = document.createElement('button');\n",
        "      capture.textContent = 'Capture';\n",
        "      div.appendChild(capture);\n",
        "\n",
        "      const video = document.createElement('video');\n",
        "      video.style.display = 'block';\n",
        "      const stream = await navigator.mediaDevices.getUserMedia({video: true});\n",
        "\n",
        "      document.body.appendChild(div);\n",
        "      div.appendChild(video);\n",
        "      video.srcObject = stream;\n",
        "      await video.play();\n",
        "\n",
        "      // Resize the output to fit the video element.\n",
        "      google.colab.output.setIframeHeight(document.documentElement.scrollHeight, true);\n",
        "\n",
        "      // Wait for Capture to be clicked.\n",
        "      await new Promise((resolve) => capture.onclick = resolve);\n",
        "\n",
        "      const canvas = document.createElement('canvas');\n",
        "      canvas.width = video.videoWidth;\n",
        "      canvas.height = video.videoHeight;\n",
        "      canvas.getContext('2d').drawImage(video, 0, 0);\n",
        "      stream.getVideoTracks()[0].stop();\n",
        "      div.remove();\n",
        "      return canvas.toDataURL('image/jpeg', quality);\n",
        "    }\n",
        "    ''')\n",
        "  display(js)\n",
        "  data = eval_js('takePhoto({})'.format(quality))\n",
        "  binary = b64decode(data.split(',')[1])\n",
        "  with open(filename, 'wb') as f:\n",
        "    f.write(binary)\n",
        "  return filename"
      ],
      "execution_count": 33,
      "outputs": []
    },
    {
      "cell_type": "code",
      "metadata": {
        "id": "jA4WGvubxYhd",
        "colab_type": "code",
        "colab": {}
      },
      "source": [
        "from IPython.display import Image\n",
        "try:\n",
        "  filename = take_photo()\n",
        "  print('Saved to {}'.format(filename))\n",
        "  \n",
        "  # Show the image which was just taken.\n",
        "  display(Image(filename))\n",
        "except Exception as err:\n",
        "  # Errors will be thrown if the user does not have a webcam or if they do not\n",
        "  # grant the page permission to access it.\n",
        "  print(str(err))"
      ],
      "execution_count": null,
      "outputs": []
    },
    {
      "cell_type": "code",
      "metadata": {
        "id": "jtAwPzd3xYn7",
        "colab_type": "code",
        "colab": {}
      },
      "source": [
        "img=cv2.imread('/content/photo.jpg',cv2.IMREAD_COLOR)\n",
        "img=cv2.resize(img,(64,64),interpolation = cv2.INTER_CUBIC)\n",
        "RGB_img = cv2.cvtColor(img, cv2.COLOR_BGR2RGB)\n",
        "plt.imshow(RGB_img)\n",
        "z= np.zeros((1,64,64,3))\n",
        "z[0]=RGB_img\n",
        "print(classifier.predict(z))"
      ],
      "execution_count": null,
      "outputs": []
    },
    {
      "cell_type": "code",
      "metadata": {
        "id": "sQ9U9j_UuWDO",
        "colab_type": "code",
        "colab": {}
      },
      "source": [
        ""
      ],
      "execution_count": null,
      "outputs": []
    }
  ]
}